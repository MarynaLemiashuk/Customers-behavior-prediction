{
 "cells": [
  {
   "cell_type": "code",
   "execution_count": null,
   "id": "258b2138-3a8c-403d-bc61-48b93ec65f43",
   "metadata": {},
   "outputs": [],
   "source": []
  }
 ],
 "metadata": {
  "kernelspec": {
   "display_name": "",
   "name": ""
  },
  "language_info": {
   "name": ""
  }
 },
 "nbformat": 4,
 "nbformat_minor": 5
}
