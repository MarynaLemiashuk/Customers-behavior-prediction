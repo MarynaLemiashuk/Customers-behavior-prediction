{
 "cells": [
  {
   "cell_type": "code",
   "execution_count": null,
   "id": "fc5f02ec-d5a7-4023-add2-e9d1066ce693",
   "metadata": {},
   "outputs": [],
   "source": []
  }
 ],
 "metadata": {
  "kernelspec": {
   "display_name": "",
   "name": ""
  },
  "language_info": {
   "name": ""
  }
 },
 "nbformat": 4,
 "nbformat_minor": 5
}
